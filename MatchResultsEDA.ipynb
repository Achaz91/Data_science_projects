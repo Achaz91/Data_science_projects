{
 "cells": [
  {
   "cell_type": "markdown",
   "id": "e49c3893-ce23-4b25-97ee-ecbba3b760e4",
   "metadata": {},
   "source": [
    "## 1. Import libraries\n",
    "\n",
    "Start by importing the necessry libraries such as pandas, numpy, matplotlib and seaborn."
   ]
  },
  {
   "cell_type": "code",
   "execution_count": 1,
   "id": "2a5426c4-f759-41e9-b827-1b7946ad1b2a",
   "metadata": {},
   "outputs": [],
   "source": [
    "import pandas as pd\n",
    "import numpy as np\n",
    "import matplotlib.pyplot as plt\n",
    "import seaborn as sns"
   ]
  },
  {
   "cell_type": "markdown",
   "id": "000e38d9-8538-4dd8-a067-e50b23dc8da6",
   "metadata": {},
   "source": [
    "## 2. Load the data\n",
    "\n",
    "Load your dataset into pandas DataFrame."
   ]
  },
  {
   "cell_type": "code",
   "execution_count": 2,
   "id": "0c66ed5b-a8c0-4327-9db4-963d88c6610b",
   "metadata": {},
   "outputs": [],
   "source": [
    "df = pd.read_csv('Match_Results.csv')"
   ]
  },
  {
   "cell_type": "markdown",
   "id": "89a285a0-7ce4-419d-b5b7-75e2209ddf0e",
   "metadata": {},
   "source": [
    "## 3. Understand the data\n",
    "\n",
    "Get quick overview of the dataset unsing methods like head(), info() and describe()."
   ]
  },
  {
   "cell_type": "code",
   "execution_count": 3,
   "id": "cac6a1eb-832a-4a15-afa9-28f8d5837169",
   "metadata": {},
   "outputs": [
    {
     "data": {
      "text/html": [
       "<div>\n",
       "<style scoped>\n",
       "    .dataframe tbody tr th:only-of-type {\n",
       "        vertical-align: middle;\n",
       "    }\n",
       "\n",
       "    .dataframe tbody tr th {\n",
       "        vertical-align: top;\n",
       "    }\n",
       "\n",
       "    .dataframe thead th {\n",
       "        text-align: right;\n",
       "    }\n",
       "</style>\n",
       "<table border=\"1\" class=\"dataframe\">\n",
       "  <thead>\n",
       "    <tr style=\"text-align: right;\">\n",
       "      <th></th>\n",
       "      <th>date</th>\n",
       "      <th>home_team</th>\n",
       "      <th>away_team</th>\n",
       "      <th>home_score</th>\n",
       "      <th>away_score</th>\n",
       "      <th>tournament</th>\n",
       "      <th>city</th>\n",
       "      <th>country</th>\n",
       "      <th>neutral</th>\n",
       "    </tr>\n",
       "  </thead>\n",
       "  <tbody>\n",
       "    <tr>\n",
       "      <th>0</th>\n",
       "      <td>1872-11-30</td>\n",
       "      <td>Scotland</td>\n",
       "      <td>England</td>\n",
       "      <td>0</td>\n",
       "      <td>0</td>\n",
       "      <td>Friendly</td>\n",
       "      <td>Glasgow</td>\n",
       "      <td>Scotland</td>\n",
       "      <td>False</td>\n",
       "    </tr>\n",
       "    <tr>\n",
       "      <th>1</th>\n",
       "      <td>1873-03-08</td>\n",
       "      <td>England</td>\n",
       "      <td>Scotland</td>\n",
       "      <td>4</td>\n",
       "      <td>2</td>\n",
       "      <td>Friendly</td>\n",
       "      <td>London</td>\n",
       "      <td>England</td>\n",
       "      <td>False</td>\n",
       "    </tr>\n",
       "    <tr>\n",
       "      <th>2</th>\n",
       "      <td>1874-03-07</td>\n",
       "      <td>Scotland</td>\n",
       "      <td>England</td>\n",
       "      <td>2</td>\n",
       "      <td>1</td>\n",
       "      <td>Friendly</td>\n",
       "      <td>Glasgow</td>\n",
       "      <td>Scotland</td>\n",
       "      <td>False</td>\n",
       "    </tr>\n",
       "    <tr>\n",
       "      <th>3</th>\n",
       "      <td>1875-03-06</td>\n",
       "      <td>England</td>\n",
       "      <td>Scotland</td>\n",
       "      <td>2</td>\n",
       "      <td>2</td>\n",
       "      <td>Friendly</td>\n",
       "      <td>London</td>\n",
       "      <td>England</td>\n",
       "      <td>False</td>\n",
       "    </tr>\n",
       "    <tr>\n",
       "      <th>4</th>\n",
       "      <td>1876-03-04</td>\n",
       "      <td>Scotland</td>\n",
       "      <td>England</td>\n",
       "      <td>3</td>\n",
       "      <td>0</td>\n",
       "      <td>Friendly</td>\n",
       "      <td>Glasgow</td>\n",
       "      <td>Scotland</td>\n",
       "      <td>False</td>\n",
       "    </tr>\n",
       "  </tbody>\n",
       "</table>\n",
       "</div>"
      ],
      "text/plain": [
       "         date home_team away_team  home_score  away_score tournament     city  \\\n",
       "0  1872-11-30  Scotland   England           0           0   Friendly  Glasgow   \n",
       "1  1873-03-08   England  Scotland           4           2   Friendly   London   \n",
       "2  1874-03-07  Scotland   England           2           1   Friendly  Glasgow   \n",
       "3  1875-03-06   England  Scotland           2           2   Friendly   London   \n",
       "4  1876-03-04  Scotland   England           3           0   Friendly  Glasgow   \n",
       "\n",
       "    country  neutral  \n",
       "0  Scotland    False  \n",
       "1   England    False  \n",
       "2  Scotland    False  \n",
       "3   England    False  \n",
       "4  Scotland    False  "
      ]
     },
     "execution_count": 3,
     "metadata": {},
     "output_type": "execute_result"
    }
   ],
   "source": [
    "df.head()"
   ]
  },
  {
   "cell_type": "code",
   "execution_count": 4,
   "id": "0c6c5331-50fa-4f5e-9542-f605cd88717b",
   "metadata": {},
   "outputs": [
    {
     "name": "stdout",
     "output_type": "stream",
     "text": [
      "<class 'pandas.core.frame.DataFrame'>\n",
      "RangeIndex: 47399 entries, 0 to 47398\n",
      "Data columns (total 9 columns):\n",
      " #   Column      Non-Null Count  Dtype \n",
      "---  ------      --------------  ----- \n",
      " 0   date        47399 non-null  object\n",
      " 1   home_team   47399 non-null  object\n",
      " 2   away_team   47399 non-null  object\n",
      " 3   home_score  47399 non-null  int64 \n",
      " 4   away_score  47399 non-null  int64 \n",
      " 5   tournament  47399 non-null  object\n",
      " 6   city        47399 non-null  object\n",
      " 7   country     47399 non-null  object\n",
      " 8   neutral     47399 non-null  bool  \n",
      "dtypes: bool(1), int64(2), object(6)\n",
      "memory usage: 2.9+ MB\n"
     ]
    }
   ],
   "source": [
    "df.info()"
   ]
  },
  {
   "cell_type": "code",
   "execution_count": 5,
   "id": "0fdede0f-1c9c-4161-b397-bbfa5b3a7bdf",
   "metadata": {},
   "outputs": [
    {
     "data": {
      "text/html": [
       "<div>\n",
       "<style scoped>\n",
       "    .dataframe tbody tr th:only-of-type {\n",
       "        vertical-align: middle;\n",
       "    }\n",
       "\n",
       "    .dataframe tbody tr th {\n",
       "        vertical-align: top;\n",
       "    }\n",
       "\n",
       "    .dataframe thead th {\n",
       "        text-align: right;\n",
       "    }\n",
       "</style>\n",
       "<table border=\"1\" class=\"dataframe\">\n",
       "  <thead>\n",
       "    <tr style=\"text-align: right;\">\n",
       "      <th></th>\n",
       "      <th>date</th>\n",
       "      <th>home_team</th>\n",
       "      <th>away_team</th>\n",
       "      <th>home_score</th>\n",
       "      <th>away_score</th>\n",
       "      <th>tournament</th>\n",
       "      <th>city</th>\n",
       "      <th>country</th>\n",
       "      <th>neutral</th>\n",
       "    </tr>\n",
       "  </thead>\n",
       "  <tbody>\n",
       "    <tr>\n",
       "      <th>count</th>\n",
       "      <td>47399</td>\n",
       "      <td>47399</td>\n",
       "      <td>47399</td>\n",
       "      <td>47399.000000</td>\n",
       "      <td>47399.000000</td>\n",
       "      <td>47399</td>\n",
       "      <td>47399</td>\n",
       "      <td>47399</td>\n",
       "      <td>47399</td>\n",
       "    </tr>\n",
       "    <tr>\n",
       "      <th>unique</th>\n",
       "      <td>16204</td>\n",
       "      <td>327</td>\n",
       "      <td>321</td>\n",
       "      <td>NaN</td>\n",
       "      <td>NaN</td>\n",
       "      <td>175</td>\n",
       "      <td>2064</td>\n",
       "      <td>270</td>\n",
       "      <td>2</td>\n",
       "    </tr>\n",
       "    <tr>\n",
       "      <th>top</th>\n",
       "      <td>2012-02-29</td>\n",
       "      <td>Brazil</td>\n",
       "      <td>Uruguay</td>\n",
       "      <td>NaN</td>\n",
       "      <td>NaN</td>\n",
       "      <td>Friendly</td>\n",
       "      <td>Kuala Lumpur</td>\n",
       "      <td>United States</td>\n",
       "      <td>False</td>\n",
       "    </tr>\n",
       "    <tr>\n",
       "      <th>freq</th>\n",
       "      <td>66</td>\n",
       "      <td>602</td>\n",
       "      <td>571</td>\n",
       "      <td>NaN</td>\n",
       "      <td>NaN</td>\n",
       "      <td>17995</td>\n",
       "      <td>725</td>\n",
       "      <td>1399</td>\n",
       "      <td>34892</td>\n",
       "    </tr>\n",
       "    <tr>\n",
       "      <th>mean</th>\n",
       "      <td>NaN</td>\n",
       "      <td>NaN</td>\n",
       "      <td>NaN</td>\n",
       "      <td>1.759784</td>\n",
       "      <td>1.182915</td>\n",
       "      <td>NaN</td>\n",
       "      <td>NaN</td>\n",
       "      <td>NaN</td>\n",
       "      <td>NaN</td>\n",
       "    </tr>\n",
       "    <tr>\n",
       "      <th>std</th>\n",
       "      <td>NaN</td>\n",
       "      <td>NaN</td>\n",
       "      <td>NaN</td>\n",
       "      <td>1.775093</td>\n",
       "      <td>1.401597</td>\n",
       "      <td>NaN</td>\n",
       "      <td>NaN</td>\n",
       "      <td>NaN</td>\n",
       "      <td>NaN</td>\n",
       "    </tr>\n",
       "    <tr>\n",
       "      <th>min</th>\n",
       "      <td>NaN</td>\n",
       "      <td>NaN</td>\n",
       "      <td>NaN</td>\n",
       "      <td>0.000000</td>\n",
       "      <td>0.000000</td>\n",
       "      <td>NaN</td>\n",
       "      <td>NaN</td>\n",
       "      <td>NaN</td>\n",
       "      <td>NaN</td>\n",
       "    </tr>\n",
       "    <tr>\n",
       "      <th>25%</th>\n",
       "      <td>NaN</td>\n",
       "      <td>NaN</td>\n",
       "      <td>NaN</td>\n",
       "      <td>1.000000</td>\n",
       "      <td>0.000000</td>\n",
       "      <td>NaN</td>\n",
       "      <td>NaN</td>\n",
       "      <td>NaN</td>\n",
       "      <td>NaN</td>\n",
       "    </tr>\n",
       "    <tr>\n",
       "      <th>50%</th>\n",
       "      <td>NaN</td>\n",
       "      <td>NaN</td>\n",
       "      <td>NaN</td>\n",
       "      <td>1.000000</td>\n",
       "      <td>1.000000</td>\n",
       "      <td>NaN</td>\n",
       "      <td>NaN</td>\n",
       "      <td>NaN</td>\n",
       "      <td>NaN</td>\n",
       "    </tr>\n",
       "    <tr>\n",
       "      <th>75%</th>\n",
       "      <td>NaN</td>\n",
       "      <td>NaN</td>\n",
       "      <td>NaN</td>\n",
       "      <td>2.000000</td>\n",
       "      <td>2.000000</td>\n",
       "      <td>NaN</td>\n",
       "      <td>NaN</td>\n",
       "      <td>NaN</td>\n",
       "      <td>NaN</td>\n",
       "    </tr>\n",
       "    <tr>\n",
       "      <th>max</th>\n",
       "      <td>NaN</td>\n",
       "      <td>NaN</td>\n",
       "      <td>NaN</td>\n",
       "      <td>31.000000</td>\n",
       "      <td>21.000000</td>\n",
       "      <td>NaN</td>\n",
       "      <td>NaN</td>\n",
       "      <td>NaN</td>\n",
       "      <td>NaN</td>\n",
       "    </tr>\n",
       "  </tbody>\n",
       "</table>\n",
       "</div>"
      ],
      "text/plain": [
       "              date home_team away_team    home_score    away_score tournament  \\\n",
       "count        47399     47399     47399  47399.000000  47399.000000      47399   \n",
       "unique       16204       327       321           NaN           NaN        175   \n",
       "top     2012-02-29    Brazil   Uruguay           NaN           NaN   Friendly   \n",
       "freq            66       602       571           NaN           NaN      17995   \n",
       "mean           NaN       NaN       NaN      1.759784      1.182915        NaN   \n",
       "std            NaN       NaN       NaN      1.775093      1.401597        NaN   \n",
       "min            NaN       NaN       NaN      0.000000      0.000000        NaN   \n",
       "25%            NaN       NaN       NaN      1.000000      0.000000        NaN   \n",
       "50%            NaN       NaN       NaN      1.000000      1.000000        NaN   \n",
       "75%            NaN       NaN       NaN      2.000000      2.000000        NaN   \n",
       "max            NaN       NaN       NaN     31.000000     21.000000        NaN   \n",
       "\n",
       "                city        country neutral  \n",
       "count          47399          47399   47399  \n",
       "unique          2064            270       2  \n",
       "top     Kuala Lumpur  United States   False  \n",
       "freq             725           1399   34892  \n",
       "mean             NaN            NaN     NaN  \n",
       "std              NaN            NaN     NaN  \n",
       "min              NaN            NaN     NaN  \n",
       "25%              NaN            NaN     NaN  \n",
       "50%              NaN            NaN     NaN  \n",
       "75%              NaN            NaN     NaN  \n",
       "max              NaN            NaN     NaN  "
      ]
     },
     "execution_count": 5,
     "metadata": {},
     "output_type": "execute_result"
    }
   ],
   "source": [
    "df.describe(include='all')"
   ]
  },
  {
   "cell_type": "markdown",
   "id": "ff9713d2-c8c2-4b1a-a973-e4656cff70f7",
   "metadata": {},
   "source": [
    "## 4. Data cleanning\n",
    "\n",
    "Handle missing values, remove duplicates and correct data types."
   ]
  },
  {
   "cell_type": "markdown",
   "id": "106af7aa-1348-4981-861b-702b2404eb16",
   "metadata": {},
   "source": [
    "### Handle missing value"
   ]
  },
  {
   "cell_type": "code",
   "execution_count": 6,
   "id": "fd937e8d-e6cf-4813-adb2-58fb7b437924",
   "metadata": {},
   "outputs": [
    {
     "name": "stdout",
     "output_type": "stream",
     "text": [
      "Number of 'Null' value(s) is 0 and number of 'NaN' value(s) is 0\n"
     ]
    }
   ],
   "source": [
    "# Number of Null\n",
    "num_null = df.isnull().sum().sum()\n",
    "\n",
    "# Number of NaN\n",
    "num_nan = df.isna().sum().sum()\n",
    "\n",
    "print(f\"Number of \\'Null\\' value(s) is {num_null} and number of \\'NaN\\' value(s) is {num_nan}\")"
   ]
  },
  {
   "cell_type": "markdown",
   "id": "414f2a82-5751-4251-b789-b5cc3224ef9e",
   "metadata": {},
   "source": [
    "### Remove duplicate\n",
    "\n",
    "We assumed that the same match (with same home_team and same away_team) can't be played more than one time at the same date."
   ]
  },
  {
   "cell_type": "code",
   "execution_count": 7,
   "id": "b0f0d9b3-4bff-4ff0-aeb8-8a45491e4ba2",
   "metadata": {},
   "outputs": [
    {
     "name": "stdout",
     "output_type": "stream",
     "text": [
      "Number of simple diplicated values : 0\n",
      "\n",
      "Number of subset diplicated values : 20\n",
      "\n",
      "Number of refined diplicated values : 17\n",
      "\n"
     ]
    }
   ],
   "source": [
    "# Number of duplicates values : simple\n",
    "num_dup_simple = df.duplicated().sum()\n",
    "print(f\"Number of simple diplicated values : {num_dup_simple}\\n\")\n",
    "\n",
    "# Number of duplicates values : subset\n",
    "sub = ['date', 'home_team', 'away_team']\n",
    "num_dup_subset = df.duplicated(subset = sub).sum()\n",
    "print(f\"Number of subset diplicated values : {num_dup_subset}\\n\")\n",
    "\n",
    "# Number of duplicates values : refined\n",
    "refined = ['date', 'home_team', 'away_team', 'home_score', 'away_score']\n",
    "num_dup_refined = df.duplicated(subset = refined).sum()\n",
    "print(f\"Number of refined diplicated values : {num_dup_refined}\\n\")"
   ]
  },
  {
   "cell_type": "markdown",
   "id": "6d6061d6-abbe-43af-b4c2-34ed4bf8c91c",
   "metadata": {},
   "source": [
    "We assumed that one match can only have one result, we will keep the result with 'subset'."
   ]
  },
  {
   "cell_type": "code",
   "execution_count": 8,
   "id": "2034f143-a3ff-4aec-9013-dc569c4a5119",
   "metadata": {},
   "outputs": [],
   "source": [
    "# Drop duplicated values : 'date', 'home_team', 'away_team'\n",
    "# sub = ['date', 'home_team', 'away_team']\n",
    "df.drop_duplicates(inplace=True, keep='last', subset=sub)"
   ]
  },
  {
   "cell_type": "code",
   "execution_count": 9,
   "id": "d4c877f2-ac08-46d9-99f7-ed31762906d5",
   "metadata": {},
   "outputs": [
    {
     "name": "stdout",
     "output_type": "stream",
     "text": [
      "<class 'pandas.core.frame.DataFrame'>\n",
      "Index: 47379 entries, 0 to 47398\n",
      "Data columns (total 9 columns):\n",
      " #   Column      Non-Null Count  Dtype \n",
      "---  ------      --------------  ----- \n",
      " 0   date        47379 non-null  object\n",
      " 1   home_team   47379 non-null  object\n",
      " 2   away_team   47379 non-null  object\n",
      " 3   home_score  47379 non-null  int64 \n",
      " 4   away_score  47379 non-null  int64 \n",
      " 5   tournament  47379 non-null  object\n",
      " 6   city        47379 non-null  object\n",
      " 7   country     47379 non-null  object\n",
      " 8   neutral     47379 non-null  bool  \n",
      "dtypes: bool(1), int64(2), object(6)\n",
      "memory usage: 3.3+ MB\n"
     ]
    }
   ],
   "source": [
    "df.info()"
   ]
  },
  {
   "cell_type": "markdown",
   "id": "9c777229-4ff6-4c9b-ac78-e31799d600ee",
   "metadata": {},
   "source": [
    "### Correct columns types"
   ]
  },
  {
   "cell_type": "code",
   "execution_count": 10,
   "id": "9bd6a9a3-04cf-4d72-8182-9f1b4be51f71",
   "metadata": {},
   "outputs": [
    {
     "data": {
      "text/plain": [
       "date          object\n",
       "home_team     object\n",
       "away_team     object\n",
       "home_score     int64\n",
       "away_score     int64\n",
       "tournament    object\n",
       "city          object\n",
       "country       object\n",
       "neutral         bool\n",
       "dtype: object"
      ]
     },
     "execution_count": 10,
     "metadata": {},
     "output_type": "execute_result"
    }
   ],
   "source": [
    "df.dtypes"
   ]
  },
  {
   "cell_type": "code",
   "execution_count": 11,
   "id": "e23700f8-db43-4f14-ba91-45a8fa45ef32",
   "metadata": {},
   "outputs": [
    {
     "data": {
      "text/plain": [
       "date          datetime64[ns]\n",
       "home_team             object\n",
       "away_team             object\n",
       "home_score             int64\n",
       "away_score             int64\n",
       "tournament            object\n",
       "city                  object\n",
       "country               object\n",
       "neutral                 bool\n",
       "dtype: object"
      ]
     },
     "execution_count": 11,
     "metadata": {},
     "output_type": "execute_result"
    }
   ],
   "source": [
    "# Set date type\n",
    "df['date'] = pd.to_datetime(df['date'])\n",
    "\n",
    "df.dtypes"
   ]
  },
  {
   "cell_type": "markdown",
   "id": "e5e02cec-0757-407a-b1a3-48db628ea4c5",
   "metadata": {},
   "source": [
    "## 5. Univariate analysis\n",
    "\n",
    "Analyse individual variable using histograms, box plots and bar charts."
   ]
  },
  {
   "cell_type": "markdown",
   "id": "9f9782b1-8721-43e0-8106-1f225cddb22b",
   "metadata": {},
   "source": [
    "### 'date'"
   ]
  },
  {
   "cell_type": "code",
   "execution_count": 12,
   "id": "e73bc161-0634-4328-879e-23f269cb69ac",
   "metadata": {},
   "outputs": [
    {
     "name": "stdout",
     "output_type": "stream",
     "text": [
      "Number of dates is : 47379\n"
     ]
    }
   ],
   "source": [
    "# Number of dates in the dataframe\n",
    "num_date = df['date'].count()\n",
    "print(f'Number of dates is : {num_date}')\n"
   ]
  },
  {
   "cell_type": "code",
   "execution_count": 13,
   "id": "2d1666d4-4776-44de-8161-0c19bc1c8bf8",
   "metadata": {},
   "outputs": [
    {
     "data": {
      "text/html": [
       "<div>\n",
       "<style scoped>\n",
       "    .dataframe tbody tr th:only-of-type {\n",
       "        vertical-align: middle;\n",
       "    }\n",
       "\n",
       "    .dataframe tbody tr th {\n",
       "        vertical-align: top;\n",
       "    }\n",
       "\n",
       "    .dataframe thead th {\n",
       "        text-align: right;\n",
       "    }\n",
       "</style>\n",
       "<table border=\"1\" class=\"dataframe\">\n",
       "  <thead>\n",
       "    <tr style=\"text-align: right;\">\n",
       "      <th></th>\n",
       "      <th>date</th>\n",
       "      <th>number_matches_per_date</th>\n",
       "    </tr>\n",
       "  </thead>\n",
       "  <tbody>\n",
       "    <tr>\n",
       "      <th>0</th>\n",
       "      <td>2012-02-29</td>\n",
       "      <td>66</td>\n",
       "    </tr>\n",
       "    <tr>\n",
       "      <th>1</th>\n",
       "      <td>2016-03-29</td>\n",
       "      <td>64</td>\n",
       "    </tr>\n",
       "    <tr>\n",
       "      <th>2</th>\n",
       "      <td>2008-03-26</td>\n",
       "      <td>60</td>\n",
       "    </tr>\n",
       "    <tr>\n",
       "      <th>3</th>\n",
       "      <td>2014-03-05</td>\n",
       "      <td>59</td>\n",
       "    </tr>\n",
       "    <tr>\n",
       "      <th>4</th>\n",
       "      <td>2023-11-21</td>\n",
       "      <td>58</td>\n",
       "    </tr>\n",
       "  </tbody>\n",
       "</table>\n",
       "</div>"
      ],
      "text/plain": [
       "        date  number_matches_per_date\n",
       "0 2012-02-29                       66\n",
       "1 2016-03-29                       64\n",
       "2 2008-03-26                       60\n",
       "3 2014-03-05                       59\n",
       "4 2023-11-21                       58"
      ]
     },
     "execution_count": 13,
     "metadata": {},
     "output_type": "execute_result"
    }
   ],
   "source": [
    "# Number of matches per date\n",
    "\n",
    "num_match_dates = df['date'].value_counts().to_frame().reset_index()\n",
    "num_match_dates.columns = ['date', 'number_matches_per_date']\n",
    "num_match_dates.head()"
   ]
  },
  {
   "cell_type": "markdown",
   "id": "f040278c-cb67-4f6b-b20b-e8b3e6ec827a",
   "metadata": {},
   "source": [
    "<b>Insight</b> : The greatest number of matchs were played <b>'2012-02-29'</b>, <b>66 matchs</b> "
   ]
  },
  {
   "cell_type": "code",
   "execution_count": 14,
   "id": "b9445236-aa21-4f2a-b5c5-1b88f1403cd9",
   "metadata": {},
   "outputs": [
    {
     "data": {
      "text/html": [
       "<div>\n",
       "<style scoped>\n",
       "    .dataframe tbody tr th:only-of-type {\n",
       "        vertical-align: middle;\n",
       "    }\n",
       "\n",
       "    .dataframe tbody tr th {\n",
       "        vertical-align: top;\n",
       "    }\n",
       "\n",
       "    .dataframe thead th {\n",
       "        text-align: right;\n",
       "    }\n",
       "</style>\n",
       "<table border=\"1\" class=\"dataframe\">\n",
       "  <thead>\n",
       "    <tr style=\"text-align: right;\">\n",
       "      <th></th>\n",
       "      <th>number_matches_per_day</th>\n",
       "      <th>effectifs</th>\n",
       "    </tr>\n",
       "  </thead>\n",
       "  <tbody>\n",
       "    <tr>\n",
       "      <th>0</th>\n",
       "      <td>1</td>\n",
       "      <td>7534</td>\n",
       "    </tr>\n",
       "    <tr>\n",
       "      <th>1</th>\n",
       "      <td>2</td>\n",
       "      <td>3910</td>\n",
       "    </tr>\n",
       "    <tr>\n",
       "      <th>2</th>\n",
       "      <td>3</td>\n",
       "      <td>1846</td>\n",
       "    </tr>\n",
       "    <tr>\n",
       "      <th>3</th>\n",
       "      <td>4</td>\n",
       "      <td>1070</td>\n",
       "    </tr>\n",
       "    <tr>\n",
       "      <th>4</th>\n",
       "      <td>5</td>\n",
       "      <td>488</td>\n",
       "    </tr>\n",
       "    <tr>\n",
       "      <th>5</th>\n",
       "      <td>6</td>\n",
       "      <td>292</td>\n",
       "    </tr>\n",
       "    <tr>\n",
       "      <th>6</th>\n",
       "      <td>7</td>\n",
       "      <td>178</td>\n",
       "    </tr>\n",
       "    <tr>\n",
       "      <th>7</th>\n",
       "      <td>8</td>\n",
       "      <td>111</td>\n",
       "    </tr>\n",
       "    <tr>\n",
       "      <th>8</th>\n",
       "      <td>9</td>\n",
       "      <td>89</td>\n",
       "    </tr>\n",
       "    <tr>\n",
       "      <th>9</th>\n",
       "      <td>10</td>\n",
       "      <td>67</td>\n",
       "    </tr>\n",
       "    <tr>\n",
       "      <th>10</th>\n",
       "      <td>11</td>\n",
       "      <td>54</td>\n",
       "    </tr>\n",
       "    <tr>\n",
       "      <th>11</th>\n",
       "      <td>12</td>\n",
       "      <td>45</td>\n",
       "    </tr>\n",
       "    <tr>\n",
       "      <th>12</th>\n",
       "      <td>14</td>\n",
       "      <td>37</td>\n",
       "    </tr>\n",
       "    <tr>\n",
       "      <th>13</th>\n",
       "      <td>13</td>\n",
       "      <td>33</td>\n",
       "    </tr>\n",
       "    <tr>\n",
       "      <th>14</th>\n",
       "      <td>18</td>\n",
       "      <td>30</td>\n",
       "    </tr>\n",
       "  </tbody>\n",
       "</table>\n",
       "</div>"
      ],
      "text/plain": [
       "    number_matches_per_day  effectifs\n",
       "0                        1       7534\n",
       "1                        2       3910\n",
       "2                        3       1846\n",
       "3                        4       1070\n",
       "4                        5        488\n",
       "5                        6        292\n",
       "6                        7        178\n",
       "7                        8        111\n",
       "8                        9         89\n",
       "9                       10         67\n",
       "10                      11         54\n",
       "11                      12         45\n",
       "12                      14         37\n",
       "13                      13         33\n",
       "14                      18         30"
      ]
     },
     "execution_count": 14,
     "metadata": {},
     "output_type": "execute_result"
    }
   ],
   "source": [
    "# Number of matches per day\n",
    "\n",
    "num_match_days = num_match_dates['number_matches_per_date'].value_counts().to_frame().reset_index()\n",
    "num_match_days.columns = ['number_matches_per_day', 'effectifs']\n",
    "num_match_days.head(15)"
   ]
  },
  {
   "cell_type": "markdown",
   "id": "ee5e1f1f-053a-43d1-ba89-9d97cef05edf",
   "metadata": {},
   "source": [
    "<b>Insights</b> : The more frequent number of matches per day is <b>1</b>."
   ]
  },
  {
   "cell_type": "code",
   "execution_count": 16,
   "id": "3ba949c4-b72f-40b3-8cb9-1702188ea5bd",
   "metadata": {},
   "outputs": [
    {
     "data": {
      "image/png": "[encoded data removed]",
      "text/plain": [
       "<Figure size 640x480 with 1 Axes>"
      ]
     },
     "metadata": {},
     "output_type": "display_data"
    }
   ],
   "source": [
    "# Plot kde of number of matches per day \n",
    "\n",
    "sns.kdeplot(num_match_dates, label = 'density')\n",
    "plt.title('KDE plot of matches number per day')\n",
    "plt.xlabel('Number of match(es)')\n",
    "plt.ylabel('Density')\n",
    "plt.legend()\n",
    "plt.show()"
   ]
  },
  {
   "cell_type": "markdown",
   "id": "d284a9be-c7b1-4422-937e-898755114934",
   "metadata": {},
   "source": [
    "<b>Insight</b> : Most of the time, the number of matches played per day is less than <b>10</b>"
   ]
  },
  {
   "cell_type": "code",
   "execution_count": 18,
   "id": "47e8a330-8551-4813-beb0-cb01669f4888",
   "metadata": {},
   "outputs": [
    {
     "data": {
      "image/png": "[encoded data removed]",
      "text/plain": [
       "<Figure size 640x480 with 1 Axes>"
      ]
     },
     "metadata": {},
     "output_type": "display_data"
    }
   ],
   "source": [
    "# Box plot of number of matches per day \n",
    "\n",
    "sns.boxplot(num_match_dates)\n",
    "plt.title('Box plot of matches number per day')\n",
    "plt.show()"
   ]
  },
  {
   "cell_type": "markdown",
   "id": "a08e8aaa-40fe-4229-b796-daf4b2729212",
   "metadata": {},
   "source": [
    "<b>Insight</b> : The <b>Q3</b> of the number of matches played per day is less than <b>5</b>"
   ]
  },
  {
   "cell_type": "code",
   "execution_count": 19,
   "id": "0749ed61-19f1-48bc-be29-6e246b22a7c1",
   "metadata": {},
   "outputs": [
    {
     "data": {
      "image/png": "[encoded data removed]",
      "text/plain": [
       "<Figure size 1000x600 with 1 Axes>"
      ]
     },
     "metadata": {},
     "output_type": "display_data"
    }
   ],
   "source": [
    "# Plot histogram of number of matchs per date\n",
    "\n",
    "df['date'].hist(bins=100, figsize=(10,6))\n",
    "\n",
    "plt.title('Distribution of number of matchs per dates')\n",
    "plt.xlabel('Dates')\n",
    "plt.ylabel('Number of matchs')\n",
    "plt.show()"
   ]
  },
  {
   "cell_type": "code",
   "execution_count": 20,
   "id": "dcd0ee2e-baa0-42e3-8077-1d0898b4421a",
   "metadata": {},
   "outputs": [
    {
     "data": {
      "image/png": "[encoded data removed]",
      "text/plain": [
       "<Figure size 640x480 with 1 Axes>"
      ]
     },
     "metadata": {},
     "output_type": "display_data"
    }
   ],
   "source": [
    "# Plot KDE\n",
    "sns.kdeplot(df['date'])\n",
    "plt.title('KDE plot of number of matches per dates')\n",
    "plt.xlabel('Date')\n",
    "plt.ylabel('Density')\n",
    "plt.show()"
   ]
  },
  {
   "cell_type": "markdown",
   "id": "b8394a41-6002-4f3f-8f7d-f619156dc694",
   "metadata": {},
   "source": [
    "<b>Insight</b> : The majority of matches were played after <b>1980</b>."
   ]
  },
  {
   "cell_type": "markdown",
   "id": "58ea29d2-b487-4477-ba0b-b62ba91c357e",
   "metadata": {},
   "source": [
    "### 'home_team'"
   ]
  },
  {
   "cell_type": "code",
   "execution_count": 21,
   "id": "05d95076-3207-46e8-8916-09058a65659f",
   "metadata": {},
   "outputs": [
    {
     "name": "stdout",
     "output_type": "stream",
     "text": [
      "Number of home teams is : 327\n"
     ]
    }
   ],
   "source": [
    "# Number of teams that had played at home\n",
    "\n",
    "unic_home_teams = df['home_team'].unique().tolist()\n",
    "unic_home_teams.sort()\n",
    "print(f\"Number of home teams is : {len(unic_home_teams)}\")"
   ]
  },
  {
   "cell_type": "code",
   "execution_count": 22,
   "id": "cb088ba2-2fad-4db7-9590-3b68121f1a97",
   "metadata": {},
   "outputs": [
    {
     "data": {
      "text/html": [
       "<div>\n",
       "<style scoped>\n",
       "    .dataframe tbody tr th:only-of-type {\n",
       "        vertical-align: middle;\n",
       "    }\n",
       "\n",
       "    .dataframe tbody tr th {\n",
       "        vertical-align: top;\n",
       "    }\n",
       "\n",
       "    .dataframe thead th {\n",
       "        text-align: right;\n",
       "    }\n",
       "</style>\n",
       "<table border=\"1\" class=\"dataframe\">\n",
       "  <thead>\n",
       "    <tr style=\"text-align: right;\">\n",
       "      <th></th>\n",
       "      <th>home_team</th>\n",
       "      <th>number_home_matches</th>\n",
       "    </tr>\n",
       "  </thead>\n",
       "  <tbody>\n",
       "    <tr>\n",
       "      <th>0</th>\n",
       "      <td>Brazil</td>\n",
       "      <td>602</td>\n",
       "    </tr>\n",
       "    <tr>\n",
       "      <th>1</th>\n",
       "      <td>Argentina</td>\n",
       "      <td>592</td>\n",
       "    </tr>\n",
       "    <tr>\n",
       "      <th>2</th>\n",
       "      <td>Mexico</td>\n",
       "      <td>580</td>\n",
       "    </tr>\n",
       "    <tr>\n",
       "      <th>3</th>\n",
       "      <td>South Korea</td>\n",
       "      <td>543</td>\n",
       "    </tr>\n",
       "    <tr>\n",
       "      <th>4</th>\n",
       "      <td>Germany</td>\n",
       "      <td>542</td>\n",
       "    </tr>\n",
       "  </tbody>\n",
       "</table>\n",
       "</div>"
      ],
      "text/plain": [
       "     home_team  number_home_matches\n",
       "0       Brazil                  602\n",
       "1    Argentina                  592\n",
       "2       Mexico                  580\n",
       "3  South Korea                  543\n",
       "4      Germany                  542"
      ]
     },
     "execution_count": 22,
     "metadata": {},
     "output_type": "execute_result"
    }
   ],
   "source": [
    "# Number of matches played at home by teams\n",
    "count_home_team = df['home_team'].value_counts().to_frame().reset_index()\n",
    "count_home_team.columns = ['home_team', 'number_home_matches']\n",
    "count_home_team.head()"
   ]
  },
  {
   "cell_type": "markdown",
   "id": "5df6f856-2f7c-4df4-ad26-012d7b29b184",
   "metadata": {},
   "source": [
    "<b>Insight</b> : The team that had most played at home is <b>Brazil</b>."
   ]
  },
  {
   "cell_type": "code",
   "execution_count": 23,
   "id": "e0abc099-cc8e-4ba4-820d-709af673144b",
   "metadata": {},
   "outputs": [
    {
     "data": {
      "image/png": "[encoded data removed]",
      "text/plain": [
       "<Figure size 640x480 with 1 Axes>"
      ]
     },
     "metadata": {},
     "output_type": "display_data"
    }
   ],
   "source": [
    "# Plot kde of number of home matches per team\n",
    "\n",
    "sns.kdeplot(count_home_team, label = 'density')\n",
    "plt.title('KDE plot of home matches number per team')\n",
    "plt.xlabel('Number of match(es)')\n",
    "plt.ylabel('Density')\n",
    "# plt.xlim(0,)\n",
    "plt.legend()\n",
    "plt.show()"
   ]
  },
  {
   "cell_type": "code",
   "execution_count": 24,
   "id": "ec8402dd-ef33-474d-814e-fd2a360a4c33",
   "metadata": {},
   "outputs": [
    {
     "data": {
      "image/png": "[encoded data removed]",
      "text/plain": [
       "<Figure size 640x480 with 1 Axes>"
      ]
     },
     "metadata": {},
     "output_type": "display_data"
    }
   ],
   "source": [
    "# Box plot of number of home matches per day \n",
    "\n",
    "sns.boxplot(count_home_team)\n",
    "plt.title('Box plot of home matches number per team')\n",
    "plt.show()"
   ]
  },
  {
   "cell_type": "markdown",
   "id": "29127e5b-b4f9-4445-8e8a-91d010c9c562",
   "metadata": {},
   "source": [
    "<b>Insight</b> : More than <b>75%</b> of teams have played fewer than <b>300</b> home matches with many outliers"
   ]
  },
  {
   "cell_type": "markdown",
   "id": "80bc018d-6a3a-41fd-93b9-4399b93ec1d6",
   "metadata": {},
   "source": [
    "### 'away_team'"
   ]
  },
  {
   "cell_type": "code",
   "execution_count": 25,
   "id": "e57acafc-dd78-4c67-a36c-8a5f23d8c8d5",
   "metadata": {},
   "outputs": [
    {
     "name": "stdout",
     "output_type": "stream",
     "text": [
      "Number of home teams is : 321\n"
     ]
    }
   ],
   "source": [
    "# Number of teams that have played away\n",
    "\n",
    "unic_away_teams = df['away_team'].unique().tolist()\n",
    "unic_away_teams.sort()\n",
    "print(f\"Number of home teams is : {len(unic_away_teams)}\")"
   ]
  },
  {
   "cell_type": "code",
   "execution_count": 26,
   "id": "b8894a5b-2210-456a-923f-87562ea1149d",
   "metadata": {},
   "outputs": [
    {
     "data": {
      "text/html": [
       "<div>\n",
       "<style scoped>\n",
       "    .dataframe tbody tr th:only-of-type {\n",
       "        vertical-align: middle;\n",
       "    }\n",
       "\n",
       "    .dataframe tbody tr th {\n",
       "        vertical-align: top;\n",
       "    }\n",
       "\n",
       "    .dataframe thead th {\n",
       "        text-align: right;\n",
       "    }\n",
       "</style>\n",
       "<table border=\"1\" class=\"dataframe\">\n",
       "  <thead>\n",
       "    <tr style=\"text-align: right;\">\n",
       "      <th></th>\n",
       "      <th>away_team</th>\n",
       "      <th>number_away_matches</th>\n",
       "    </tr>\n",
       "  </thead>\n",
       "  <tbody>\n",
       "    <tr>\n",
       "      <th>0</th>\n",
       "      <td>Uruguay</td>\n",
       "      <td>571</td>\n",
       "    </tr>\n",
       "    <tr>\n",
       "      <th>1</th>\n",
       "      <td>Sweden</td>\n",
       "      <td>554</td>\n",
       "    </tr>\n",
       "    <tr>\n",
       "      <th>2</th>\n",
       "      <td>England</td>\n",
       "      <td>533</td>\n",
       "    </tr>\n",
       "    <tr>\n",
       "      <th>3</th>\n",
       "      <td>Hungary</td>\n",
       "      <td>499</td>\n",
       "    </tr>\n",
       "    <tr>\n",
       "      <th>4</th>\n",
       "      <td>Paraguay</td>\n",
       "      <td>483</td>\n",
       "    </tr>\n",
       "  </tbody>\n",
       "</table>\n",
       "</div>"
      ],
      "text/plain": [
       "  away_team  number_away_matches\n",
       "0   Uruguay                  571\n",
       "1    Sweden                  554\n",
       "2   England                  533\n",
       "3   Hungary                  499\n",
       "4  Paraguay                  483"
      ]
     },
     "execution_count": 26,
     "metadata": {},
     "output_type": "execute_result"
    }
   ],
   "source": [
    "# Number of matches played away by teams\n",
    "count_away_team = df['away_team'].value_counts().to_frame().reset_index()\n",
    "count_away_team.columns = ['away_team', 'number_away_matches']\n",
    "count_away_team.head()"
   ]
  },
  {
   "cell_type": "markdown",
   "id": "c1f87276-75ac-490e-a05f-16d60f0936ea",
   "metadata": {},
   "source": [
    "<b>Insight</b> : The team that had most played at home is <b>Uruguay</b>."
   ]
  },
  {
   "cell_type": "code",
   "execution_count": 27,
   "id": "6b30b762-86f3-4fe8-95f5-333770f929a4",
   "metadata": {},
   "outputs": [
    {
     "data": {
      "image/png": "[encoded data removed]",
      "text/plain": [
       "<Figure size 640x480 with 1 Axes>"
      ]
     },
     "metadata": {},
     "output_type": "display_data"
    }
   ],
   "source": [
    "# Plot kde of number of away matches per team\n",
    "\n",
    "sns.kdeplot(count_away_team, label = 'density')\n",
    "plt.title('KDE plot of away matches number per team')\n",
    "plt.xlabel('Number of match(es)')\n",
    "plt.ylabel('Density')\n",
    "plt.legend()\n",
    "plt.show()"
   ]
  },
  {
   "cell_type": "code",
   "execution_count": 28,
   "id": "0adabfc2-bc59-4bb7-b752-de35714bafb9",
   "metadata": {},
   "outputs": [
    {
     "data": {
      "image/png": "[encoded data removed]",
      "text/plain": [
       "<Figure size 640x480 with 1 Axes>"
      ]
     },
     "metadata": {},
     "output_type": "display_data"
    }
   ],
   "source": [
    "# Box plot of number of home matches per day \n",
    "\n",
    "sns.boxplot(count_away_team)\n",
    "plt.title('Box plot of away matches number per team')\n",
    "plt.show()"
   ]
  },
  {
   "cell_type": "markdown",
   "id": "feabaca1-8112-4f78-99a3-899b1d4b0994",
   "metadata": {},
   "source": [
    "<b>Insight</b> : More than <b>75%</b> of teams have played fewer than <b>300</b> home matches with no outliers"
   ]
  },
  {
   "cell_type": "markdown",
   "id": "b4aadb2f-d7b7-49b4-abc5-9b7f344fd0c0",
   "metadata": {},
   "source": [
    "### 'home_score'"
   ]
  },
  {
   "cell_type": "code",
   "execution_count": 29,
   "id": "487413c1-3a70-4c22-847a-a17dcc4ee518",
   "metadata": {},
   "outputs": [
    {
     "name": "stdout",
     "output_type": "stream",
     "text": [
      "The mean home score is 1.7593026446315878 and the max is 31\n"
     ]
    }
   ],
   "source": [
    "# Mean and max home score\n",
    "mean_home_score = df['home_score'].mean()\n",
    "print(f\"The mean home score is {mean_home_score} and the max is {df['home_score'].max()}\")"
   ]
  },
  {
   "cell_type": "code",
   "execution_count": 30,
   "id": "010cdc06-d4c8-4b17-8cab-8148a242d375",
   "metadata": {},
   "outputs": [
    {
     "data": {
      "image/png": "[encoded data removed]",
      "text/plain": [
       "<Figure size 1000x600 with 1 Axes>"
      ]
     },
     "metadata": {},
     "output_type": "display_data"
    }
   ],
   "source": [
    "# Plot histogram of home score\n",
    "\n",
    "df['home_score'].hist(bins=30, figsize=(10,6), edgecolor='black')\n",
    "\n",
    "plt.title('Distribution of home score')\n",
    "plt.xlabel('Home score')\n",
    "plt.ylabel('Effectifs')\n",
    "plt.show()"
   ]
  },
  {
   "cell_type": "code",
   "execution_count": 31,
   "id": "ba55e9ef-febb-403c-8a0c-5e08ba989c21",
   "metadata": {},
   "outputs": [
    {
     "data": {
      "image/png": "[encoded data removed]",
      "text/plain": [
       "<Figure size 640x480 with 1 Axes>"
      ]
     },
     "metadata": {},
     "output_type": "display_data"
    }
   ],
   "source": [
    "# Box plot of number of home matches per day \n",
    "\n",
    "sns.boxplot(df['home_score'])\n",
    "plt.title('Box plot of home scores')\n",
    "plt.show()"
   ]
  },
  {
   "cell_type": "markdown",
   "id": "85ff359d-7a8b-4a13-9361-0981e40ee4df",
   "metadata": {},
   "source": [
    "<b>Insight</b> : Most of the time, fewer than <b>5</b> goals are scored at home. With a maximum score greater than <b>30</b>."
   ]
  },
  {
   "cell_type": "markdown",
   "id": "30f34991-65e5-4e72-9157-a59b2fcf6a4c",
   "metadata": {},
   "source": [
    "### 'away_score'"
   ]
  },
  {
   "cell_type": "code",
   "execution_count": 32,
   "id": "6b2932b9-7c0c-409c-8921-ad51d2a899a8",
   "metadata": {},
   "outputs": [
    {
     "name": "stdout",
     "output_type": "stream",
     "text": [
      "The mean home score is 1.1826336562612128 and the max is 21\n"
     ]
    }
   ],
   "source": [
    "# Mean and max away score\n",
    "print(f\"The mean home score is {df['away_score'].mean()} and the max is {df['away_score'].max()}\")"
   ]
  },
  {
   "cell_type": "code",
   "execution_count": 33,
   "id": "95259da8-a9ee-4d41-beef-785ef276ac45",
   "metadata": {},
   "outputs": [
    {
     "data": {
      "image/png": "[encoded data removed]",
      "text/plain": [
       "<Figure size 1000x600 with 1 Axes>"
      ]
     },
     "metadata": {},
     "output_type": "display_data"
    }
   ],
   "source": [
    "# Plot histogram of away score\n",
    "\n",
    "df['away_score'].hist(bins=30, figsize=(10,6), edgecolor='black')\n",
    "\n",
    "plt.title('Distribution of away score')\n",
    "plt.xlabel('away score')\n",
    "plt.ylabel('Effectifs')\n",
    "plt.show()"
   ]
  },
  {
   "cell_type": "code",
   "execution_count": 34,
   "id": "1cc40618-d4b5-457e-b82b-5df989ffa8d3",
   "metadata": {},
   "outputs": [
    {
     "data": {
      "image/png": "[encoded data removed]",
      "text/plain": [
       "<Figure size 640x480 with 1 Axes>"
      ]
     },
     "metadata": {},
     "output_type": "display_data"
    }
   ],
   "source": [
    "# Box plot of number of home matches per day \n",
    "\n",
    "sns.boxplot(df['away_score'])\n",
    "plt.title('Box plot of away score')\n",
    "plt.show()"
   ]
  },
  {
   "cell_type": "markdown",
   "id": "5da0a777-b4f2-4f8f-a965-d5da92af4198",
   "metadata": {},
   "source": [
    "<b>Insight</b> : Most of the time, fewer than <b>5</b> goals are scored away. With a maximum score greater than <b>20</b>."
   ]
  },
  {
   "cell_type": "markdown",
   "id": "aa1821fa-79cb-4ad7-ae82-3238bafc4553",
   "metadata": {},
   "source": [
    "### 'tournament'"
   ]
  },
  {
   "cell_type": "code",
   "execution_count": 35,
   "id": "829621f0-364f-4f59-8157-0cf8fe242af0",
   "metadata": {},
   "outputs": [
    {
     "data": {
      "text/html": [
       "<div>\n",
       "<style scoped>\n",
       "    .dataframe tbody tr th:only-of-type {\n",
       "        vertical-align: middle;\n",
       "    }\n",
       "\n",
       "    .dataframe tbody tr th {\n",
       "        vertical-align: top;\n",
       "    }\n",
       "\n",
       "    .dataframe thead th {\n",
       "        text-align: right;\n",
       "    }\n",
       "</style>\n",
       "<table border=\"1\" class=\"dataframe\">\n",
       "  <thead>\n",
       "    <tr style=\"text-align: right;\">\n",
       "      <th></th>\n",
       "      <th>tournament</th>\n",
       "      <th>count</th>\n",
       "    </tr>\n",
       "  </thead>\n",
       "  <tbody>\n",
       "    <tr>\n",
       "      <th>0</th>\n",
       "      <td>Friendly</td>\n",
       "      <td>17976</td>\n",
       "    </tr>\n",
       "    <tr>\n",
       "      <th>1</th>\n",
       "      <td>FIFA World Cup qualification</td>\n",
       "      <td>8169</td>\n",
       "    </tr>\n",
       "    <tr>\n",
       "      <th>2</th>\n",
       "      <td>UEFA Euro qualification</td>\n",
       "      <td>2824</td>\n",
       "    </tr>\n",
       "    <tr>\n",
       "      <th>3</th>\n",
       "      <td>African Cup of Nations qualification</td>\n",
       "      <td>2124</td>\n",
       "    </tr>\n",
       "    <tr>\n",
       "      <th>4</th>\n",
       "      <td>FIFA World Cup</td>\n",
       "      <td>964</td>\n",
       "    </tr>\n",
       "    <tr>\n",
       "      <th>5</th>\n",
       "      <td>Copa América</td>\n",
       "      <td>873</td>\n",
       "    </tr>\n",
       "    <tr>\n",
       "      <th>6</th>\n",
       "      <td>African Cup of Nations</td>\n",
       "      <td>793</td>\n",
       "    </tr>\n",
       "    <tr>\n",
       "      <th>7</th>\n",
       "      <td>AFC Asian Cup qualification</td>\n",
       "      <td>764</td>\n",
       "    </tr>\n",
       "    <tr>\n",
       "      <th>8</th>\n",
       "      <td>CECAFA Cup</td>\n",
       "      <td>620</td>\n",
       "    </tr>\n",
       "    <tr>\n",
       "      <th>9</th>\n",
       "      <td>CFU Caribbean Cup qualification</td>\n",
       "      <td>606</td>\n",
       "    </tr>\n",
       "  </tbody>\n",
       "</table>\n",
       "</div>"
      ],
      "text/plain": [
       "                             tournament  count\n",
       "0                              Friendly  17976\n",
       "1          FIFA World Cup qualification   8169\n",
       "2               UEFA Euro qualification   2824\n",
       "3  African Cup of Nations qualification   2124\n",
       "4                        FIFA World Cup    964\n",
       "5                          Copa América    873\n",
       "6                African Cup of Nations    793\n",
       "7           AFC Asian Cup qualification    764\n",
       "8                            CECAFA Cup    620\n",
       "9       CFU Caribbean Cup qualification    606"
      ]
     },
     "execution_count": 35,
     "metadata": {},
     "output_type": "execute_result"
    }
   ],
   "source": [
    "tournament = df['tournament'].value_counts().to_frame().reset_index()\n",
    "tournament.head(10)"
   ]
  },
  {
   "cell_type": "code",
   "execution_count": 62,
   "id": "ae160b29-4939-4b5e-89b2-eba46e48890f",
   "metadata": {},
   "outputs": [
    {
     "name": "stdout",
     "output_type": "stream",
     "text": [
      "The total number of tournaments is : 175\n"
     ]
    },
    {
     "data": {
      "text/plain": [
       "<Axes: >"
      ]
     },
     "execution_count": 62,
     "metadata": {},
     "output_type": "execute_result"
    },
    {
     "data": {
      "image/png": "[encoded data removed]",
      "text/plain": [
       "<Figure size 640x480 with 1 Axes>"
      ]
     },
     "metadata": {},
     "output_type": "display_data"
    }
   ],
   "source": [
    "# Distribution of matches per tournaments\n",
    "print(f\"The total number of tournaments is : {tournament.shape[0]}\")\n",
    "tournament['count'].hist(bins=10)"
   ]
  },
  {
   "cell_type": "markdown",
   "id": "1d0f5953-1e82-4624-a04a-d5c66707cb75",
   "metadata": {},
   "source": [
    "### 'city'"
   ]
  },
  {
   "cell_type": "code",
   "execution_count": 37,
   "id": "ec86e6b8-ef63-406e-8239-9a0cdc57c070",
   "metadata": {},
   "outputs": [
    {
     "data": {
      "text/html": [
       "<div>\n",
       "<style scoped>\n",
       "    .dataframe tbody tr th:only-of-type {\n",
       "        vertical-align: middle;\n",
       "    }\n",
       "\n",
       "    .dataframe tbody tr th {\n",
       "        vertical-align: top;\n",
       "    }\n",
       "\n",
       "    .dataframe thead th {\n",
       "        text-align: right;\n",
       "    }\n",
       "</style>\n",
       "<table border=\"1\" class=\"dataframe\">\n",
       "  <thead>\n",
       "    <tr style=\"text-align: right;\">\n",
       "      <th></th>\n",
       "      <th>city</th>\n",
       "    </tr>\n",
       "  </thead>\n",
       "  <tbody>\n",
       "    <tr>\n",
       "      <th>count</th>\n",
       "      <td>47379</td>\n",
       "    </tr>\n",
       "    <tr>\n",
       "      <th>unique</th>\n",
       "      <td>2064</td>\n",
       "    </tr>\n",
       "    <tr>\n",
       "      <th>top</th>\n",
       "      <td>Kuala Lumpur</td>\n",
       "    </tr>\n",
       "    <tr>\n",
       "      <th>freq</th>\n",
       "      <td>725</td>\n",
       "    </tr>\n",
       "  </tbody>\n",
       "</table>\n",
       "</div>"
      ],
      "text/plain": [
       "                city\n",
       "count          47379\n",
       "unique          2064\n",
       "top     Kuala Lumpur\n",
       "freq             725"
      ]
     },
     "execution_count": 37,
     "metadata": {},
     "output_type": "execute_result"
    }
   ],
   "source": [
    "df['city'].describe().to_frame()"
   ]
  },
  {
   "cell_type": "code",
   "execution_count": 41,
   "id": "15ba06cd-a851-4328-962a-02cef3c383e7",
   "metadata": {},
   "outputs": [
    {
     "data": {
      "text/html": [
       "<div>\n",
       "<style scoped>\n",
       "    .dataframe tbody tr th:only-of-type {\n",
       "        vertical-align: middle;\n",
       "    }\n",
       "\n",
       "    .dataframe tbody tr th {\n",
       "        vertical-align: top;\n",
       "    }\n",
       "\n",
       "    .dataframe thead th {\n",
       "        text-align: right;\n",
       "    }\n",
       "</style>\n",
       "<table border=\"1\" class=\"dataframe\">\n",
       "  <thead>\n",
       "    <tr style=\"text-align: right;\">\n",
       "      <th></th>\n",
       "      <th>city</th>\n",
       "      <th>count</th>\n",
       "    </tr>\n",
       "  </thead>\n",
       "  <tbody>\n",
       "    <tr>\n",
       "      <th>0</th>\n",
       "      <td>Kuala Lumpur</td>\n",
       "      <td>725</td>\n",
       "    </tr>\n",
       "    <tr>\n",
       "      <th>1</th>\n",
       "      <td>Bangkok</td>\n",
       "      <td>571</td>\n",
       "    </tr>\n",
       "    <tr>\n",
       "      <th>2</th>\n",
       "      <td>Doha</td>\n",
       "      <td>546</td>\n",
       "    </tr>\n",
       "    <tr>\n",
       "      <th>3</th>\n",
       "      <td>London</td>\n",
       "      <td>427</td>\n",
       "    </tr>\n",
       "    <tr>\n",
       "      <th>4</th>\n",
       "      <td>Budapest</td>\n",
       "      <td>423</td>\n",
       "    </tr>\n",
       "    <tr>\n",
       "      <th>5</th>\n",
       "      <td>Montevideo</td>\n",
       "      <td>366</td>\n",
       "    </tr>\n",
       "    <tr>\n",
       "      <th>6</th>\n",
       "      <td>Kuwait City</td>\n",
       "      <td>361</td>\n",
       "    </tr>\n",
       "    <tr>\n",
       "      <th>7</th>\n",
       "      <td>Vienna</td>\n",
       "      <td>357</td>\n",
       "    </tr>\n",
       "    <tr>\n",
       "      <th>8</th>\n",
       "      <td>Oslo</td>\n",
       "      <td>348</td>\n",
       "    </tr>\n",
       "    <tr>\n",
       "      <th>9</th>\n",
       "      <td>Copenhagen</td>\n",
       "      <td>347</td>\n",
       "    </tr>\n",
       "  </tbody>\n",
       "</table>\n",
       "</div>"
      ],
      "text/plain": [
       "           city  count\n",
       "0  Kuala Lumpur    725\n",
       "1       Bangkok    571\n",
       "2          Doha    546\n",
       "3        London    427\n",
       "4      Budapest    423\n",
       "5    Montevideo    366\n",
       "6   Kuwait City    361\n",
       "7        Vienna    357\n",
       "8          Oslo    348\n",
       "9    Copenhagen    347"
      ]
     },
     "execution_count": 41,
     "metadata": {},
     "output_type": "execute_result"
    }
   ],
   "source": [
    "count_cities = df['city'].value_counts().to_frame().reset_index()\n",
    "count_cities.head(10)"
   ]
  },
  {
   "cell_type": "code",
   "execution_count": 72,
   "id": "4c04a27d-e9e0-4967-8ba6-a0349e20d5df",
   "metadata": {},
   "outputs": [
    {
     "name": "stdout",
     "output_type": "stream",
     "text": [
      "The total number of cities is : 2064\n"
     ]
    },
    {
     "data": {
      "text/plain": [
       "<Axes: >"
      ]
     },
     "execution_count": 72,
     "metadata": {},
     "output_type": "execute_result"
    },
    {
     "data": {
      "image/png": "[encoded data removed]",
      "text/plain": [
       "<Figure size 640x480 with 1 Axes>"
      ]
     },
     "metadata": {},
     "output_type": "display_data"
    }
   ],
   "source": [
    "# Distribution of matches per cities\n",
    "print(f\"The total number of cities is : {count_cities.shape[0]}\")\n",
    "count_cities['count'].hist(bins=8)"
   ]
  },
  {
   "cell_type": "markdown",
   "id": "023be9b5-b267-4e9a-9db6-4d3580b19e4a",
   "metadata": {},
   "source": [
    "### 'country'"
   ]
  },
  {
   "cell_type": "code",
   "execution_count": 73,
   "id": "c19f7b56-7e35-491f-b831-1b85e12e9746",
   "metadata": {},
   "outputs": [
    {
     "data": {
      "text/html": [
       "<div>\n",
       "<style scoped>\n",
       "    .dataframe tbody tr th:only-of-type {\n",
       "        vertical-align: middle;\n",
       "    }\n",
       "\n",
       "    .dataframe tbody tr th {\n",
       "        vertical-align: top;\n",
       "    }\n",
       "\n",
       "    .dataframe thead th {\n",
       "        text-align: right;\n",
       "    }\n",
       "</style>\n",
       "<table border=\"1\" class=\"dataframe\">\n",
       "  <thead>\n",
       "    <tr style=\"text-align: right;\">\n",
       "      <th></th>\n",
       "      <th>country</th>\n",
       "    </tr>\n",
       "  </thead>\n",
       "  <tbody>\n",
       "    <tr>\n",
       "      <th>count</th>\n",
       "      <td>47379</td>\n",
       "    </tr>\n",
       "    <tr>\n",
       "      <th>unique</th>\n",
       "      <td>270</td>\n",
       "    </tr>\n",
       "    <tr>\n",
       "      <th>top</th>\n",
       "      <td>United States</td>\n",
       "    </tr>\n",
       "    <tr>\n",
       "      <th>freq</th>\n",
       "      <td>1399</td>\n",
       "    </tr>\n",
       "  </tbody>\n",
       "</table>\n",
       "</div>"
      ],
      "text/plain": [
       "              country\n",
       "count           47379\n",
       "unique            270\n",
       "top     United States\n",
       "freq             1399"
      ]
     },
     "execution_count": 73,
     "metadata": {},
     "output_type": "execute_result"
    }
   ],
   "source": [
    "df['country'].describe().to_frame()"
   ]
  },
  {
   "cell_type": "code",
   "execution_count": 101,
   "id": "e3c329f6-ca12-45a4-9a0b-972e7ff8912b",
   "metadata": {},
   "outputs": [
    {
     "data": {
      "text/html": [
       "<div>\n",
       "<style scoped>\n",
       "    .dataframe tbody tr th:only-of-type {\n",
       "        vertical-align: middle;\n",
       "    }\n",
       "\n",
       "    .dataframe tbody tr th {\n",
       "        vertical-align: top;\n",
       "    }\n",
       "\n",
       "    .dataframe thead th {\n",
       "        text-align: right;\n",
       "    }\n",
       "</style>\n",
       "<table border=\"1\" class=\"dataframe\">\n",
       "  <thead>\n",
       "    <tr style=\"text-align: right;\">\n",
       "      <th></th>\n",
       "      <th>country</th>\n",
       "      <th>count</th>\n",
       "    </tr>\n",
       "  </thead>\n",
       "  <tbody>\n",
       "    <tr>\n",
       "      <th>0</th>\n",
       "      <td>United States</td>\n",
       "      <td>1399</td>\n",
       "    </tr>\n",
       "    <tr>\n",
       "      <th>1</th>\n",
       "      <td>France</td>\n",
       "      <td>889</td>\n",
       "    </tr>\n",
       "    <tr>\n",
       "      <th>2</th>\n",
       "      <td>Malaysia</td>\n",
       "      <td>813</td>\n",
       "    </tr>\n",
       "    <tr>\n",
       "      <th>3</th>\n",
       "      <td>England</td>\n",
       "      <td>745</td>\n",
       "    </tr>\n",
       "    <tr>\n",
       "      <th>4</th>\n",
       "      <td>Qatar</td>\n",
       "      <td>701</td>\n",
       "    </tr>\n",
       "    <tr>\n",
       "      <th>5</th>\n",
       "      <td>Thailand</td>\n",
       "      <td>700</td>\n",
       "    </tr>\n",
       "    <tr>\n",
       "      <th>6</th>\n",
       "      <td>Germany</td>\n",
       "      <td>672</td>\n",
       "    </tr>\n",
       "    <tr>\n",
       "      <th>7</th>\n",
       "      <td>Sweden</td>\n",
       "      <td>668</td>\n",
       "    </tr>\n",
       "    <tr>\n",
       "      <th>8</th>\n",
       "      <td>United Arab Emirates</td>\n",
       "      <td>587</td>\n",
       "    </tr>\n",
       "    <tr>\n",
       "      <th>9</th>\n",
       "      <td>Spain</td>\n",
       "      <td>583</td>\n",
       "    </tr>\n",
       "  </tbody>\n",
       "</table>\n",
       "</div>"
      ],
      "text/plain": [
       "                country  count\n",
       "0         United States   1399\n",
       "1                France    889\n",
       "2              Malaysia    813\n",
       "3               England    745\n",
       "4                 Qatar    701\n",
       "5              Thailand    700\n",
       "6               Germany    672\n",
       "7                Sweden    668\n",
       "8  United Arab Emirates    587\n",
       "9                 Spain    583"
      ]
     },
     "execution_count": 101,
     "metadata": {},
     "output_type": "execute_result"
    }
   ],
   "source": [
    "count_country = df['country'].value_counts().to_frame().reset_index()\n",
    "count_country.head(10)"
   ]
  },
  {
   "cell_type": "code",
   "execution_count": 104,
   "id": "d9bf6834-4720-45d0-ab20-904d2f6a4542",
   "metadata": {},
   "outputs": [
    {
     "data": {
      "image/png": "[encoded data removed]",
      "text/plain": [
       "<Figure size 640x480 with 1 Axes>"
      ]
     },
     "metadata": {},
     "output_type": "display_data"
    }
   ],
   "source": [
    "# count_country['count'].hist()\n",
    "# Box plot of number of home matches per day \n",
    "\n",
    "sns.boxplot(count_country['count'])\n",
    "plt.title('Box plot of number of matches per country')\n",
    "plt.show()"
   ]
  },
  {
   "cell_type": "markdown",
   "id": "fd22c1dc-3b18-4559-968b-1900243d0f37",
   "metadata": {},
   "source": [
    "### 'neutral'"
   ]
  },
  {
   "cell_type": "code",
   "execution_count": 79,
   "id": "43612e6e-0131-4cef-a263-85b0eaab9b0f",
   "metadata": {},
   "outputs": [
    {
     "data": {
      "text/html": [
       "<div>\n",
       "<style scoped>\n",
       "    .dataframe tbody tr th:only-of-type {\n",
       "        vertical-align: middle;\n",
       "    }\n",
       "\n",
       "    .dataframe tbody tr th {\n",
       "        vertical-align: top;\n",
       "    }\n",
       "\n",
       "    .dataframe thead th {\n",
       "        text-align: right;\n",
       "    }\n",
       "</style>\n",
       "<table border=\"1\" class=\"dataframe\">\n",
       "  <thead>\n",
       "    <tr style=\"text-align: right;\">\n",
       "      <th></th>\n",
       "      <th>neutral</th>\n",
       "    </tr>\n",
       "  </thead>\n",
       "  <tbody>\n",
       "    <tr>\n",
       "      <th>count</th>\n",
       "      <td>47379</td>\n",
       "    </tr>\n",
       "    <tr>\n",
       "      <th>unique</th>\n",
       "      <td>2</td>\n",
       "    </tr>\n",
       "    <tr>\n",
       "      <th>top</th>\n",
       "      <td>False</td>\n",
       "    </tr>\n",
       "    <tr>\n",
       "      <th>freq</th>\n",
       "      <td>34882</td>\n",
       "    </tr>\n",
       "  </tbody>\n",
       "</table>\n",
       "</div>"
      ],
      "text/plain": [
       "       neutral\n",
       "count    47379\n",
       "unique       2\n",
       "top      False\n",
       "freq     34882"
      ]
     },
     "execution_count": 79,
     "metadata": {},
     "output_type": "execute_result"
    }
   ],
   "source": [
    "df['neutral'].describe().to_frame()"
   ]
  },
  {
   "cell_type": "code",
   "execution_count": 84,
   "id": "d390f3a3-2093-430f-be28-75947808f757",
   "metadata": {},
   "outputs": [
    {
     "data": {
      "text/html": [
       "<div>\n",
       "<style scoped>\n",
       "    .dataframe tbody tr th:only-of-type {\n",
       "        vertical-align: middle;\n",
       "    }\n",
       "\n",
       "    .dataframe tbody tr th {\n",
       "        vertical-align: top;\n",
       "    }\n",
       "\n",
       "    .dataframe thead th {\n",
       "        text-align: right;\n",
       "    }\n",
       "</style>\n",
       "<table border=\"1\" class=\"dataframe\">\n",
       "  <thead>\n",
       "    <tr style=\"text-align: right;\">\n",
       "      <th></th>\n",
       "      <th>neutral</th>\n",
       "      <th>count</th>\n",
       "    </tr>\n",
       "  </thead>\n",
       "  <tbody>\n",
       "    <tr>\n",
       "      <th>0</th>\n",
       "      <td>False</td>\n",
       "      <td>34882</td>\n",
       "    </tr>\n",
       "    <tr>\n",
       "      <th>1</th>\n",
       "      <td>True</td>\n",
       "      <td>12497</td>\n",
       "    </tr>\n",
       "  </tbody>\n",
       "</table>\n",
       "</div>"
      ],
      "text/plain": [
       "   neutral  count\n",
       "0    False  34882\n",
       "1     True  12497"
      ]
     },
     "execution_count": 84,
     "metadata": {},
     "output_type": "execute_result"
    }
   ],
   "source": [
    "count_neutral = df['neutral'].value_counts().to_frame().reset_index()\n",
    "count_neutral"
   ]
  },
  {
   "cell_type": "code",
   "execution_count": 99,
   "id": "689ef7c2-3ed2-42ba-bb8b-e483d32f0c15",
   "metadata": {},
   "outputs": [
    {
     "data": {
      "image/png": "[encoded data removed]",
      "text/plain": [
       "<Figure size 640x480 with 1 Axes>"
      ]
     },
     "metadata": {},
     "output_type": "display_data"
    }
   ],
   "source": [
    "# Distribution of neutrals scores\n",
    "\n",
    "count_neutral.plot(kind='bar')\n",
    "plt.title('Distribution of neutral')\n",
    "plt.show()"
   ]
  },
  {
   "cell_type": "markdown",
   "id": "dcb7ba31-7874-4396-a8c7-b64880a14c2d",
   "metadata": {},
   "source": [
    "## 6. Bivariate analysis\n",
    "\n",
    "Explore relationships between two variables using scatter plots, correlation matrices and pair plots."
   ]
  },
  {
   "cell_type": "code",
   "execution_count": 105,
   "id": "f0cae63b-8766-43dc-9d29-b4bbc582cede",
   "metadata": {},
   "outputs": [
    {
     "data": {
      "text/html": [
       "<div>\n",
       "<style scoped>\n",
       "    .dataframe tbody tr th:only-of-type {\n",
       "        vertical-align: middle;\n",
       "    }\n",
       "\n",
       "    .dataframe tbody tr th {\n",
       "        vertical-align: top;\n",
       "    }\n",
       "\n",
       "    .dataframe thead th {\n",
       "        text-align: right;\n",
       "    }\n",
       "</style>\n",
       "<table border=\"1\" class=\"dataframe\">\n",
       "  <thead>\n",
       "    <tr style=\"text-align: right;\">\n",
       "      <th></th>\n",
       "      <th>date</th>\n",
       "      <th>home_team</th>\n",
       "      <th>away_team</th>\n",
       "      <th>home_score</th>\n",
       "      <th>away_score</th>\n",
       "      <th>tournament</th>\n",
       "      <th>city</th>\n",
       "      <th>country</th>\n",
       "      <th>neutral</th>\n",
       "    </tr>\n",
       "  </thead>\n",
       "  <tbody>\n",
       "    <tr>\n",
       "      <th>0</th>\n",
       "      <td>1872-11-30</td>\n",
       "      <td>Scotland</td>\n",
       "      <td>England</td>\n",
       "      <td>0</td>\n",
       "      <td>0</td>\n",
       "      <td>Friendly</td>\n",
       "      <td>Glasgow</td>\n",
       "      <td>Scotland</td>\n",
       "      <td>False</td>\n",
       "    </tr>\n",
       "    <tr>\n",
       "      <th>1</th>\n",
       "      <td>1873-03-08</td>\n",
       "      <td>England</td>\n",
       "      <td>Scotland</td>\n",
       "      <td>4</td>\n",
       "      <td>2</td>\n",
       "      <td>Friendly</td>\n",
       "      <td>London</td>\n",
       "      <td>England</td>\n",
       "      <td>False</td>\n",
       "    </tr>\n",
       "    <tr>\n",
       "      <th>2</th>\n",
       "      <td>1874-03-07</td>\n",
       "      <td>Scotland</td>\n",
       "      <td>England</td>\n",
       "      <td>2</td>\n",
       "      <td>1</td>\n",
       "      <td>Friendly</td>\n",
       "      <td>Glasgow</td>\n",
       "      <td>Scotland</td>\n",
       "      <td>False</td>\n",
       "    </tr>\n",
       "    <tr>\n",
       "      <th>3</th>\n",
       "      <td>1875-03-06</td>\n",
       "      <td>England</td>\n",
       "      <td>Scotland</td>\n",
       "      <td>2</td>\n",
       "      <td>2</td>\n",
       "      <td>Friendly</td>\n",
       "      <td>London</td>\n",
       "      <td>England</td>\n",
       "      <td>False</td>\n",
       "    </tr>\n",
       "    <tr>\n",
       "      <th>4</th>\n",
       "      <td>1876-03-04</td>\n",
       "      <td>Scotland</td>\n",
       "      <td>England</td>\n",
       "      <td>3</td>\n",
       "      <td>0</td>\n",
       "      <td>Friendly</td>\n",
       "      <td>Glasgow</td>\n",
       "      <td>Scotland</td>\n",
       "      <td>False</td>\n",
       "    </tr>\n",
       "  </tbody>\n",
       "</table>\n",
       "</div>"
      ],
      "text/plain": [
       "        date home_team away_team  home_score  away_score tournament     city  \\\n",
       "0 1872-11-30  Scotland   England           0           0   Friendly  Glasgow   \n",
       "1 1873-03-08   England  Scotland           4           2   Friendly   London   \n",
       "2 1874-03-07  Scotland   England           2           1   Friendly  Glasgow   \n",
       "3 1875-03-06   England  Scotland           2           2   Friendly   London   \n",
       "4 1876-03-04  Scotland   England           3           0   Friendly  Glasgow   \n",
       "\n",
       "    country  neutral  \n",
       "0  Scotland    False  \n",
       "1   England    False  \n",
       "2  Scotland    False  \n",
       "3   England    False  \n",
       "4  Scotland    False  "
      ]
     },
     "execution_count": 105,
     "metadata": {},
     "output_type": "execute_result"
    }
   ],
   "source": [
    "df.head()"
   ]
  },
  {
   "cell_type": "markdown",
   "id": "e5cf03a7-6afa-4575-9cae-68284767d3ff",
   "metadata": {},
   "source": [
    "### 'home_team' & 'away_team'"
   ]
  },
  {
   "cell_type": "code",
   "execution_count": 135,
   "id": "33d72d6b-8a16-464f-87ad-77c6fc4a58ed",
   "metadata": {},
   "outputs": [
    {
     "name": "stderr",
     "output_type": "stream",
     "text": [
      "C:\\Users\\hp\\AppData\\Local\\Temp\\ipykernel_8788\\1867815635.py:5: SettingWithCopyWarning: \n",
      "A value is trying to be set on a copy of a slice from a DataFrame.\n",
      "Try using .loc[row_indexer,col_indexer] = value instead\n",
      "\n",
      "See the caveats in the documentation: https://pandas.pydata.org/pandas-docs/stable/user_guide/indexing.html#returning-a-view-versus-a-copy\n",
      "  home_away_teams['sorted_pair'] = df.apply(lambda row: tuple(sorted([row['home_team'], row['away_team']])), axis=1)\n"
     ]
    },
    {
     "data": {
      "text/html": [
       "<div>\n",
       "<style scoped>\n",
       "    .dataframe tbody tr th:only-of-type {\n",
       "        vertical-align: middle;\n",
       "    }\n",
       "\n",
       "    .dataframe tbody tr th {\n",
       "        vertical-align: top;\n",
       "    }\n",
       "\n",
       "    .dataframe thead th {\n",
       "        text-align: right;\n",
       "    }\n",
       "</style>\n",
       "<table border=\"1\" class=\"dataframe\">\n",
       "  <thead>\n",
       "    <tr style=\"text-align: right;\">\n",
       "      <th></th>\n",
       "      <th>sorted_pair</th>\n",
       "      <th>count</th>\n",
       "    </tr>\n",
       "  </thead>\n",
       "  <tbody>\n",
       "    <tr>\n",
       "      <th>0</th>\n",
       "      <td>(Argentina, Uruguay)</td>\n",
       "      <td>182</td>\n",
       "    </tr>\n",
       "    <tr>\n",
       "      <th>1</th>\n",
       "      <td>(Austria, Hungary)</td>\n",
       "      <td>137</td>\n",
       "    </tr>\n",
       "    <tr>\n",
       "      <th>2</th>\n",
       "      <td>(Belgium, Netherlands)</td>\n",
       "      <td>128</td>\n",
       "    </tr>\n",
       "    <tr>\n",
       "      <th>3</th>\n",
       "      <td>(Guernsey, Jersey)</td>\n",
       "      <td>119</td>\n",
       "    </tr>\n",
       "    <tr>\n",
       "      <th>4</th>\n",
       "      <td>(England, Scotland)</td>\n",
       "      <td>118</td>\n",
       "    </tr>\n",
       "    <tr>\n",
       "      <th>5</th>\n",
       "      <td>(Kenya, Uganda)</td>\n",
       "      <td>110</td>\n",
       "    </tr>\n",
       "    <tr>\n",
       "      <th>6</th>\n",
       "      <td>(Argentina, Brazil)</td>\n",
       "      <td>109</td>\n",
       "    </tr>\n",
       "  </tbody>\n",
       "</table>\n",
       "</div>"
      ],
      "text/plain": [
       "              sorted_pair  count\n",
       "0    (Argentina, Uruguay)    182\n",
       "1      (Austria, Hungary)    137\n",
       "2  (Belgium, Netherlands)    128\n",
       "3      (Guernsey, Jersey)    119\n",
       "4     (England, Scotland)    118\n",
       "5         (Kenya, Uganda)    110\n",
       "6     (Argentina, Brazil)    109"
      ]
     },
     "execution_count": 135,
     "metadata": {},
     "output_type": "execute_result"
    }
   ],
   "source": [
    "# Number of matches between pairs of teams\n",
    "\n",
    "home_away_teams = df[['home_team', 'away_team']]\n",
    "\n",
    "home_away_teams['sorted_pair'] = df.apply(lambda row: tuple(sorted([row['home_team'], row['away_team']])), axis=1)\n",
    "\n",
    "pair_teams = home_away_teams['sorted_pair'].value_counts().to_frame().reset_index()\n",
    "\n",
    "pair_teams.head(7)"
   ]
  },
  {
   "cell_type": "code",
   "execution_count": 126,
   "id": "90bfa338-49ee-4803-8a5e-fd549ed122db",
   "metadata": {},
   "outputs": [
    {
     "data": {
      "image/png": "[encoded data removed]",
      "text/plain": [
       "<Figure size 640x480 with 1 Axes>"
      ]
     },
     "metadata": {},
     "output_type": "display_data"
    }
   ],
   "source": [
    "# pair_counts.hist()\n",
    "\n",
    "sns.boxplot(pair_counts['count'])\n",
    "plt.title('Box plot of number of matches per pairs of teams')\n",
    "plt.show()"
   ]
  },
  {
   "cell_type": "markdown",
   "id": "8875d682-7d95-4dba-a2b2-023b65e5d902",
   "metadata": {},
   "source": [
    "### 'home_score' & 'away_score'"
   ]
  },
  {
   "cell_type": "code",
   "execution_count": 143,
   "id": "0150e309-d3f8-48ba-b62b-719c89bcd11b",
   "metadata": {},
   "outputs": [
    {
     "name": "stderr",
     "output_type": "stream",
     "text": [
      "C:\\Users\\hp\\AppData\\Local\\Temp\\ipykernel_8788\\3417654768.py:2: SettingWithCopyWarning: \n",
      "A value is trying to be set on a copy of a slice from a DataFrame.\n",
      "Try using .loc[row_indexer,col_indexer] = value instead\n",
      "\n",
      "See the caveats in the documentation: https://pandas.pydata.org/pandas-docs/stable/user_guide/indexing.html#returning-a-view-versus-a-copy\n",
      "  home_away_scores['score_pairs'] = df.apply(lambda row: tuple((row['home_score'],row['away_score'])), axis=1)\n"
     ]
    },
    {
     "data": {
      "text/plain": [
       "score_pairs\n",
       "(1, 0)    4886\n",
       "(1, 1)    4717\n",
       "(0, 0)    3797\n",
       "(2, 0)    3671\n",
       "(2, 1)    3637\n",
       "(0, 1)    3299\n",
       "(1, 2)    2454\n",
       "(3, 0)    2260\n",
       "(0, 2)    2141\n",
       "(2, 2)    1862\n",
       "Name: count, dtype: int64"
      ]
     },
     "execution_count": 143,
     "metadata": {},
     "output_type": "execute_result"
    }
   ],
   "source": [
    "home_away_scores = df[['home_score', 'away_score']]\n",
    "home_away_scores['score_pairs'] = df.apply(lambda row: tuple((row['home_score'],row['away_score'])), axis=1)\n",
    "pair_scores = home_away_scores['score_pairs'].value_counts()\n",
    "# home_away_scores.head()\n",
    "pair_scores.head(10)"
   ]
  },
  {
   "cell_type": "code",
   "execution_count": null,
   "id": "659a59d7-d171-4889-89bc-aaa3d93e92eb",
   "metadata": {},
   "outputs": [],
   "source": []
  }
 ],
 "metadata": {
  "kernelspec": {
   "display_name": "Python 3 (ipykernel)",
   "language": "python",
   "name": "python3"
  },
  "language_info": {
   "codemirror_mode": {
    "name": "ipython",
    "version": 3
   },
   "file_extension": ".py",
   "mimetype": "text/x-python",
   "name": "python",
   "nbconvert_exporter": "python",
   "pygments_lexer": "ipython3",
   "version": "3.12.4"
  }
 },
 "nbformat": 4,
 "nbformat_minor": 5
}
